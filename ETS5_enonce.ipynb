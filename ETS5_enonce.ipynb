{
 "cells": [
  {
   "cell_type": "markdown",
   "id": "17f933cd",
   "metadata": {},
   "source": [
    "<img SRC=\"cesi-logo.jpg\" width=\"300\"/>"
   ]
  },
  {
   "cell_type": "markdown",
   "id": "1b7c55f0",
   "metadata": {},
   "source": [
    "# ETS 5 : Matrices et Systèmes  "
   ]
  },
  {
   "cell_type": "markdown",
   "id": "3bad4bf5",
   "metadata": {},
   "source": [
    "+ Les matrices sont stockées comme listes de listes.\n",
    "+ Cette méthode n'est pas optimale mais elle est assez simple à programmer.   "
   ]
  },
  {
   "cell_type": "markdown",
   "id": "d56fe33d",
   "metadata": {},
   "source": [
    "## Représentation d'une matrice en Python"
   ]
  },
  {
   "cell_type": "code",
   "execution_count": null,
   "id": "6c1261eb",
   "metadata": {},
   "outputs": [],
   "source": [
    "# on importe la librairie math (par exemple) si on souhaite des coefficients réels (racine carrés,logarithme ...)\n",
    "from math import *"
   ]
  },
  {
   "cell_type": "code",
   "execution_count": null,
   "id": "fe90db3d",
   "metadata": {},
   "outputs": [],
   "source": [
    "M = [[1,2],[3,4]]\n",
    "print(\"Lignes de la matrice\")\n",
    "print(\" 1ère ligne : \", M[0])\n",
    "print(\" 2ème ligne : \", M[1])\n",
    "print(\"Coefficients de la matrice : \")\n",
    "for i in range(0,2):\n",
    "    for j in range (0,2):\n",
    "        print(\"ligne \",i+1, \"colonne \",j+1 , \" : \", M[i][j])"
   ]
  },
  {
   "cell_type": "markdown",
   "id": "fd4029ea",
   "metadata": {},
   "source": [
    "## Opérations sur les matrices "
   ]
  },
  {
   "cell_type": "markdown",
   "id": "f782ba5b",
   "metadata": {},
   "source": [
    "### Programmer le produit d'une matrice 2*2 par un réel k "
   ]
  },
  {
   "cell_type": "markdown",
   "id": "09072d11",
   "metadata": {},
   "source": [
    "+ Compléter la ligne 7"
   ]
  },
  {
   "cell_type": "code",
   "execution_count": null,
   "id": "3792ce33",
   "metadata": {},
   "outputs": [],
   "source": [
    "A = [[1,2],[3,4]]\n",
    "k = 3\n",
    "P = [[0,0],[0,0]]\n",
    "for i in range (0,2):\n",
    "    for j in range (0,2):\n",
    "        print(i,j)\n",
    "        ...\n",
    "print(\"P = \", \"A = \", P)"
   ]
  },
  {
   "cell_type": "markdown",
   "id": "402bb01e",
   "metadata": {},
   "source": [
    "### Programmer le produit de deux  matrices 2*2  "
   ]
  },
  {
   "cell_type": "markdown",
   "id": "2277a94f",
   "metadata": {},
   "source": [
    "+ indication : il est possible de définir une fonction qui retourne le produit de la matrice\n",
    "+ Compléter les lignes 15 à 17"
   ]
  },
  {
   "cell_type": "code",
   "execution_count": null,
   "id": "5d77257b",
   "metadata": {},
   "outputs": [],
   "source": [
    "# on définit une fonction ligncol qui calcule le produit avec des listes  \n",
    "def ligncol(liste1,liste2):\n",
    "    return liste1[0]*liste2[0]+liste1[1]*liste2[1]\n",
    "# Entrées des coefficients Matrice A\n",
    "a,b = eval(input(\"Coefficients a11 et a12 de la ligne 1 de la matrice A ? \"))\n",
    "c,d = eval(input(\"Coefficients a21 et a22 de la ligne 2 de la matrice A ? \"))\n",
    "# Entrées des coefficients Matrice B\n",
    "e,f = eval(input(\"Coefficients a11 et a12 de la ligne 1 de la matrice B ? \"))\n",
    "g,h = eval(input(\"Coefficients a21 et a22 de la ligne 1 de la matrice B ? \"))\n",
    "L1=[a,b]\n",
    "L2=[c,d]\n",
    "C1=[e,g]\n",
    "C2=[f,h]\n",
    "print(\"p11 =\",ligncol(L1,C1))\n",
    "...\n",
    "...\n",
    "..."
   ]
  },
  {
   "cell_type": "markdown",
   "id": "248821cb",
   "metadata": {},
   "source": [
    "### Programmer le produit de deux  matrices 3*3  "
   ]
  },
  {
   "cell_type": "markdown",
   "id": "7edf2415",
   "metadata": {},
   "source": [
    "+ à terminer"
   ]
  },
  {
   "cell_type": "code",
   "execution_count": null,
   "id": "1090fb62",
   "metadata": {},
   "outputs": [],
   "source": [
    "# on définit une fonction ligncol qui calcule le produit avec des listes\n",
    "def ligncol(liste1,liste2):\n",
    "    return liste1[0]*liste2[0]+liste1[1]*liste2[1]+liste1[2]*liste2[2]\n",
    "# Entrées des coefficients\n",
    "a,b,c = eval(input(\"Coefficients a11,a12 et a13 de la ligne 1 de la matrice A ? \"))\n",
    "d,e,f = eval(input(\"Coefficients a21,a22 et a23 de la ligne 2 de la matrice A ? \"))\n",
    "g,h,i = eval(input(\"Coefficients a31,a32 et a33 de la ligne 3 de la matrice A ? \"))\n",
    "aa,bb,cc = eval(input(\"Coefficients b11,b12 et b13 de la ligne 1 de la matrice B ? \"))\n",
    "dd,ee,ff = eval(input(\"Coefficients b21,b22 et b23 de la ligne 2 de la matrice B ? \"))\n",
    "gg,hh,ii = eval(input(\"Coefficients b31,b32 et b33 de la ligne 3 de la matrice B ? \"))\n"
   ]
  },
  {
   "cell_type": "markdown",
   "id": "dae5e0dd",
   "metadata": {},
   "source": [
    "### Programmer le calcul du déterminant d'une matrice 2*2  "
   ]
  },
  {
   "cell_type": "markdown",
   "id": "9608763a",
   "metadata": {},
   "source": [
    "+ à compléter "
   ]
  },
  {
   "cell_type": "code",
   "execution_count": null,
   "id": "4e329087",
   "metadata": {},
   "outputs": [],
   "source": [
    "# on importe la librairie math si on souhaite des coefficients réels\n",
    "from math import *\n",
    "# Calcul du déterminant d'une matrice 2*2\n",
    "\n",
    "a,b = eval(input(\"Entrée des Coefficients a11 et a12 ? \"))\n",
    "c,d = eval(input(\"Entrée des Coefficients a21 et a22 ? \"))\n",
    "\n",
    "print(\"le déterminant de la matrice vaut\", D)"
   ]
  },
  {
   "cell_type": "markdown",
   "id": "984b4a2b",
   "metadata": {},
   "source": [
    "### Programmer le calcul du déterminant d'une matrice 3*3  "
   ]
  },
  {
   "cell_type": "markdown",
   "id": "1532f448",
   "metadata": {},
   "source": [
    "+ à compléter "
   ]
  },
  {
   "cell_type": "code",
   "execution_count": null,
   "id": "21256d02",
   "metadata": {},
   "outputs": [],
   "source": [
    "# Calcul du déterminant d'une matrice 3*3\n",
    "# fonction déterminant d'une matrice 2*2\n",
    "def det(a,b,c,d):\n",
    "    return a*d-b*c\n",
    "\n",
    "a,b,c = eval(input(\"Entrée des Coefficients a11,a12 et a13 ? \"))\n",
    "d,e,f = eval(input(\"Entrée des Coefficients a21,a22 et a23 ? \"))\n",
    "g,h,i = eval(input(\"Entrée des Coefficients a31,a32 et a33 ? \"))\n",
    "\n",
    "\n",
    "print(\"le déterminant de la matrice vaut\", D)"
   ]
  },
  {
   "cell_type": "markdown",
   "id": "ad8d4ff2",
   "metadata": {},
   "source": [
    "###  Programmer l'inversion d'une matrice 2*2 "
   ]
  },
  {
   "cell_type": "markdown",
   "id": "cbb92091",
   "metadata": {},
   "source": [
    "+ ne pas oublier de vérifier est-ce que la matrice est singulière ou pas ?"
   ]
  },
  {
   "cell_type": "code",
   "execution_count": null,
   "id": "ab95b8e5",
   "metadata": {},
   "outputs": [],
   "source": [
    "# Entrées des coefficients\n",
    "a,b = eval(input(\"Coefficients a11 et a12 de la ligne 1 ? \"))\n",
    "c,d = eval(input(\"Coefficients a21 et a22 de la ligne 2 ? \"))\n",
    "\n",
    "det = a*d-b*c\n",
    "\n"
   ]
  },
  {
   "cell_type": "markdown",
   "id": "20093609",
   "metadata": {},
   "source": [
    "### Programmer l'inversion d'une matrice 3*3 "
   ]
  },
  {
   "cell_type": "code",
   "execution_count": null,
   "id": "21bf1cc4",
   "metadata": {},
   "outputs": [],
   "source": [
    "a,b,c = eval(input(\"Entrée des Coefficients a11,a12 et a13 ? \"))\n",
    "d,e,f = eval(input(\"Entrée des Coefficients a21,a22 et a23 ? \"))\n",
    "g,h,i = eval(input(\"Entrée des Coefficients a31,a32 et a33 ? \"))\n",
    "\n"
   ]
  }
 ],
 "metadata": {
  "kernelspec": {
   "display_name": "Python 3",
   "language": "python",
   "name": "python3"
  },
  "language_info": {
   "codemirror_mode": {
    "name": "ipython",
    "version": 3
   },
   "file_extension": ".py",
   "mimetype": "text/x-python",
   "name": "python",
   "nbconvert_exporter": "python",
   "pygments_lexer": "ipython3",
   "version": "3.8.8"
  }
 },
 "nbformat": 4,
 "nbformat_minor": 5
}
