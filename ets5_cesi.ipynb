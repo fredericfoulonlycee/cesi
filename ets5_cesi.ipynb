{
 "cells": [
  {
   "cell_type": "markdown",
   "id": "1b7c55f0",
   "metadata": {},
   "source": [
    "# ETS 5 : Matrices et systèmes  "
   ]
  },
  {
   "cell_type": "markdown",
   "id": "d56fe33d",
   "metadata": {},
   "source": [
    "## Représentation d'une matrice en Python"
   ]
  },
  {
   "cell_type": "markdown",
   "id": "3bad4bf5",
   "metadata": {},
   "source": [
    "Les matrices sont stockées comme listes de listes. "
   ]
  },
  {
   "cell_type": "code",
   "execution_count": 2,
   "id": "fe90db3d",
   "metadata": {},
   "outputs": [
    {
     "name": "stdout",
     "output_type": "stream",
     "text": [
      "Lignes de la matrice\n",
      " 1ère ligne :  [1, 2]\n",
      " 2ème ligne :  [3, 4]\n",
      "Coefficients de la matrice : \n",
      "ligne  1 colonne  1  :  1\n",
      "ligne  1 colonne  2  :  2\n",
      "ligne  2 colonne  1  :  3\n",
      "ligne  2 colonne  2  :  4\n"
     ]
    }
   ],
   "source": [
    "M = [[1,2],[3,4]]\n",
    "print(\"Lignes de la matrice\")\n",
    "print(\" 1ère ligne : \", M[0])\n",
    "print(\" 2ème ligne : \", M[1])\n",
    "print(\"Coefficients de la matrice : \")\n",
    "for i in range(0,2):\n",
    "    for j in range (0,2):\n",
    "        print(\"ligne \",i+1, \"colonne \",j+1 , \" : \", M[i][j])"
   ]
  },
  {
   "cell_type": "markdown",
   "id": "fd4029ea",
   "metadata": {},
   "source": [
    "## Opérations sur les matrices "
   ]
  },
  {
   "cell_type": "markdown",
   "id": "f782ba5b",
   "metadata": {},
   "source": [
    "### Programmer le produit d'une matrice 2*2 par un réel k "
   ]
  },
  {
   "cell_type": "code",
   "execution_count": null,
   "id": "3792ce33",
   "metadata": {},
   "outputs": [],
   "source": []
  },
  {
   "cell_type": "markdown",
   "id": "402bb01e",
   "metadata": {},
   "source": [
    "### Programmer le produit de deux  matrices 2*2  "
   ]
  },
  {
   "cell_type": "markdown",
   "id": "2277a94f",
   "metadata": {},
   "source": [
    "+ indication : il est possible de définir une fonction qui retourne le produit de la matrice"
   ]
  },
  {
   "cell_type": "markdown",
   "id": "248821cb",
   "metadata": {},
   "source": [
    "### Programmer le produit de deux  matrices 3*3  "
   ]
  },
  {
   "cell_type": "markdown",
   "id": "562e84bd",
   "metadata": {},
   "source": []
  },
  {
   "cell_type": "markdown",
   "id": "dae5e0dd",
   "metadata": {},
   "source": [
    "### Programmer le calcul du déterminant d'une matrice 2*2  "
   ]
  },
  {
   "cell_type": "code",
   "execution_count": null,
   "id": "4e329087",
   "metadata": {},
   "outputs": [],
   "source": []
  },
  {
   "cell_type": "markdown",
   "id": "984b4a2b",
   "metadata": {},
   "source": [
    "### Programmer le calcul du déterminant d'une matrice 3*3  "
   ]
  },
  {
   "cell_type": "code",
   "execution_count": null,
   "id": "21256d02",
   "metadata": {},
   "outputs": [],
   "source": []
  },
  {
   "cell_type": "markdown",
   "id": "ad8d4ff2",
   "metadata": {},
   "source": [
    "###  Programmer l'inversion d'une matrice 2*2 "
   ]
  },
  {
   "cell_type": "code",
   "execution_count": null,
   "id": "ab95b8e5",
   "metadata": {},
   "outputs": [],
   "source": []
  },
  {
   "cell_type": "markdown",
   "id": "20093609",
   "metadata": {},
   "source": [
    "### Programmer l'inversion d'une matrice 3*3 "
   ]
  },
  {
   "cell_type": "code",
   "execution_count": null,
   "id": "21bf1cc4",
   "metadata": {},
   "outputs": [],
   "source": []
  },
  {
   "cell_type": "code",
   "execution_count": null,
   "id": "ea3153f0",
   "metadata": {},
   "outputs": [],
   "source": []
  }
 ],
 "metadata": {
  "kernelspec": {
   "display_name": "Python 3",
   "language": "python",
   "name": "python3"
  },
  "language_info": {
   "codemirror_mode": {
    "name": "ipython",
    "version": 3
   },
   "file_extension": ".py",
   "mimetype": "text/x-python",
   "name": "python",
   "nbconvert_exporter": "python",
   "pygments_lexer": "ipython3",
   "version": "3.8.8"
  }
 },
 "nbformat": 4,
 "nbformat_minor": 5
}
