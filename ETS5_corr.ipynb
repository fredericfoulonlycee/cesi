{
 "cells": [
  {
   "cell_type": "markdown",
   "id": "b6498cf0",
   "metadata": {},
   "source": [
    "<img SRC=\"cesi-logo.jpg\" width=\"300\"/>"
   ]
  },
  {
   "cell_type": "markdown",
   "id": "1b7c55f0",
   "metadata": {},
   "source": [
    "# ETS 5 : Matrices et systèmes  "
   ]
  },
  {
   "cell_type": "markdown",
   "id": "d56fe33d",
   "metadata": {},
   "source": [
    "## Représentation d'une matrice en Python"
   ]
  },
  {
   "cell_type": "code",
   "execution_count": 1,
   "id": "e9247842",
   "metadata": {},
   "outputs": [],
   "source": [
    "# on importe la librairie math (par exemple) si on souhaite des coefficients réels\n",
    "from math import *"
   ]
  },
  {
   "cell_type": "markdown",
   "id": "3bad4bf5",
   "metadata": {},
   "source": [
    "+ Les matrices sont stockées comme listes de listes.\n",
    "+ Cette méthode n'est pas optimale mais elle est assez simple à programmer.   "
   ]
  },
  {
   "cell_type": "code",
   "execution_count": null,
   "id": "fe90db3d",
   "metadata": {},
   "outputs": [],
   "source": [
    "M = [[1,2],[3,4]]\n",
    "print(\"Lignes de la matrice\")\n",
    "print(\" 1ère ligne : \", M[0])\n",
    "print(\" 2ème ligne : \", M[1])\n",
    "print(\"Coefficients de la matrice : \")\n",
    "for i in range(0,2):\n",
    "    for j in range (0,2):\n",
    "        print(\"ligne \",i+1, \"colonne \",j+1 , \" : \", M[i][j])"
   ]
  },
  {
   "cell_type": "markdown",
   "id": "fd4029ea",
   "metadata": {},
   "source": [
    "## Opérations sur les matrices "
   ]
  },
  {
   "cell_type": "markdown",
   "id": "f782ba5b",
   "metadata": {},
   "source": [
    "### Programmer le produit d'une matrice 2*2 par un réel k "
   ]
  },
  {
   "cell_type": "code",
   "execution_count": null,
   "id": "3792ce33",
   "metadata": {},
   "outputs": [],
   "source": [
    "A = [[1,2],[3,4]]\n",
    "k = 3\n",
    "P = [[0,0],[0,0]]\n",
    "for i in range (0,2):\n",
    "    for j in range (0,2):\n",
    "        print(i,j)\n",
    "        P[i][j]=k*A[i][j]\n",
    "print(\"P = \", \"A = \", P)"
   ]
  },
  {
   "cell_type": "markdown",
   "id": "402bb01e",
   "metadata": {},
   "source": [
    "### Programmer le produit de deux  matrices 2*2  "
   ]
  },
  {
   "cell_type": "markdown",
   "id": "2277a94f",
   "metadata": {},
   "source": [
    "+ indication : il est possible de définir une fonction qui retourne le produit de la matrice"
   ]
  },
  {
   "cell_type": "code",
   "execution_count": null,
   "id": "5d77257b",
   "metadata": {},
   "outputs": [],
   "source": [
    "# on définit une fonction ligncol qui calcule le produit avec des listes  \n",
    "def ligncol(liste1,liste2):\n",
    "    return liste1[0]*liste2[0]+liste1[1]*liste2[1]\n",
    "# Entrées des coefficients\n",
    "a,b = eval(input(\"Coefficients a11 et a12 de la ligne 1 de la matrice A ? \"))\n",
    "c,d = eval(input(\"Coefficients a21 et a22 de la ligne 2 de la matrice A ? \"))\n",
    "e,f = eval(input(\"Coefficients a11 et a12 de la ligne 1 de la matrice B ? \"))\n",
    "g,h = eval(input(\"Coefficients a21 et a22 de la ligne 1 de la matrice B ? \"))\n",
    "L1=[a,b]\n",
    "L2=[c,d]\n",
    "C1=[e,g]\n",
    "C2=[f,h]\n",
    "print(\"p11 =\",ligncol(L1,C1))\n",
    "print(\"p12 =\",ligncol(L1,C2))\n",
    "print(\"p21 =\",ligncol(L2,C1))\n",
    "print(\"p22 =\",ligncol(L2,C2))"
   ]
  },
  {
   "cell_type": "markdown",
   "id": "248821cb",
   "metadata": {},
   "source": [
    "### Programmer le produit de deux  matrices 3*3  "
   ]
  },
  {
   "cell_type": "code",
   "execution_count": null,
   "id": "96bbff94",
   "metadata": {},
   "outputs": [],
   "source": [
    "# on définit une fonction ligncol qui calcule le produit avec des listes\n",
    "def ligncol(liste1,liste2):\n",
    "    return liste1[0]*liste2[0]+liste1[1]*liste2[1]+liste1[2]*liste2[2]\n",
    "# Entrées des coefficients\n",
    "a,b,c = eval(input(\"Coefficients a11,a12 et a13 de la ligne 1 de la matrice A ? \"))\n",
    "d,e,f = eval(input(\"Coefficients a21,a22 et a23 de la ligne 2 de la matrice A ? \"))\n",
    "g,h,i = eval(input(\"Coefficients a31,a32 et a33 de la ligne 3 de la matrice A ? \"))\n",
    "aa,bb,cc = eval(input(\"Coefficients b11,b12 et b13 de la ligne 1 de la matrice B ? \"))\n",
    "dd,ee,ff = eval(input(\"Coefficients b21,b22 et b23 de la ligne 2 de la matrice B ? \"))\n",
    "gg,hh,ii = eval(input(\"Coefficients b31,b32 et b33 de la ligne 3 de la matrice B ? \"))\n",
    "\n",
    "L1 = [a,b,c]\n",
    "L2 = [d,e,f]\n",
    "L3 = [g,h,i]\n",
    "C1 = [aa,dd,gg]\n",
    "C2 = [bb,ee,hh]\n",
    "C3 = [cc,ff,ii]\n",
    "\n",
    "print(ligncol(L1,C1),ligncol(L1,C2),ligncol(L1,C3))\n",
    "print(ligncol(L2,C1),ligncol(L2,C2),ligncol(L2,C3))\n",
    "print(ligncol(L3,C1),ligncol(L3,C2),ligncol(L3,C3))"
   ]
  },
  {
   "cell_type": "markdown",
   "id": "dae5e0dd",
   "metadata": {},
   "source": [
    "### Programmer le calcul du déterminant d'une matrice 2*2  "
   ]
  },
  {
   "cell_type": "code",
   "execution_count": null,
   "id": "4e329087",
   "metadata": {},
   "outputs": [],
   "source": [
    "# on importe la librairie math si on souhaite des coefficients réels\n",
    "from math import *\n",
    "# Calcul du déterminant d'une matrice 2*2\n",
    "def det(a,b,c,d):\n",
    "    return a*d-b*c\n",
    "a,b = eval(input(\"Entrée des Coefficients a11 et a12 ? \"))\n",
    "c,d = eval(input(\"Entrée des Coefficients a21 et a22 ? \"))\n",
    "\n",
    "D = det(a,b,c,d)\n",
    "print(\"le déterminant de la matrice vaut\", D)"
   ]
  },
  {
   "cell_type": "markdown",
   "id": "984b4a2b",
   "metadata": {},
   "source": [
    "### Programmer le calcul du déterminant d'une matrice 3*3  "
   ]
  },
  {
   "cell_type": "code",
   "execution_count": null,
   "id": "21256d02",
   "metadata": {},
   "outputs": [],
   "source": [
    "# Calcul du déterminant d'une matrice 3*3\n",
    "def det(a,b,c,d):\n",
    "    return a*d-b*c\n",
    "\n",
    "a,b,c = eval(input(\"Entrée des Coefficients a11,a12 et a13 ? \"))\n",
    "d,e,f = eval(input(\"Entrée des Coefficients a21,a22 et a23 ? \"))\n",
    "g,h,i = eval(input(\"Entrée des Coefficients a31,a32 et a33 ? \"))\n",
    "\n",
    "D = det(a,b,c,d)\n",
    "\n",
    "D=a*det(e,f,h,i)-d*det(b,c,h,i)+g*det(b,c,e,f)\n",
    "\n",
    "print(\"le déterminant de la matrice vaut\", D)"
   ]
  },
  {
   "cell_type": "markdown",
   "id": "ad8d4ff2",
   "metadata": {},
   "source": [
    "###  Programmer l'inversion d'une matrice 2*2 "
   ]
  },
  {
   "cell_type": "code",
   "execution_count": 6,
   "id": "ab95b8e5",
   "metadata": {},
   "outputs": [
    {
     "name": "stdout",
     "output_type": "stream",
     "text": [
      "Coefficients a11 et a12 de la ligne 1 ? 1,3\n",
      "Coefficients a21 et a22 de la ligne 2 ? 2,5\n",
      "[-5.0, 3.0]\n",
      "[2.0, -1.0]\n"
     ]
    }
   ],
   "source": [
    "# Entrées des coefficients\n",
    "a,b = eval(input(\"Coefficients a11 et a12 de la ligne 1 ? \"))\n",
    "c,d = eval(input(\"Coefficients a21 et a22 de la ligne 2 ? \"))\n",
    "\n",
    "det = a*d-b*c\n",
    "\n",
    "if abs(det)<0.001:\n",
    "    print(\"Matrice singulière\")\n",
    "else : \n",
    "    L1 = [d/det,-b/det]\n",
    "    print(L1,end='\\n')\n",
    "    L2 = [-c/det,a/det]\n",
    "    print(L2)"
   ]
  },
  {
   "cell_type": "markdown",
   "id": "20093609",
   "metadata": {},
   "source": [
    "### Programmer l'inversion d'une matrice 3*3 "
   ]
  },
  {
   "cell_type": "code",
   "execution_count": 8,
   "id": "21bf1cc4",
   "metadata": {},
   "outputs": [
    {
     "name": "stdout",
     "output_type": "stream",
     "text": [
      "Entrée des Coefficients a11,a12 et a13 ? 2,2,1\n",
      "Entrée des Coefficients a21,a22 et a23 ? 0,1,3\n",
      "Entrée des Coefficients a31,a32 et a33 ? 1,1,0\n",
      "[3.0, -1.0, -5.0]\n",
      "[-3.0, 1.0, 6.0]\n",
      "[1.0, -0.0, -2.0]\n"
     ]
    }
   ],
   "source": [
    "a,b,c = eval(input(\"Entrée des Coefficients a11,a12 et a13 ? \"))\n",
    "d,e,f = eval(input(\"Entrée des Coefficients a21,a22 et a23 ? \"))\n",
    "g,h,i = eval(input(\"Entrée des Coefficients a31,a32 et a33 ? \"))\n",
    "\n",
    "detA= a*(e*i-h*f)-d*(b*i-c*h)+g*(b*f-e*c)\n",
    "\n",
    "if abs(det)<0.001:\n",
    "    print(\"Matrice singulière\")\n",
    "else: \n",
    "    L1 = [(e*i-f*h)/detA,(c*h-b*i)/detA,(b*f-c*e)/detA]\n",
    "    print(L1,end='\\n')\n",
    "    L2 = [(f*g-d*i)/detA,(a*i-c*g)/detA,(c*d-a*f)/detA]\n",
    "    print(L2,end='\\n')\n",
    "    L3 = [(d*h-e*g)/detA,(b*g-a*h)/detA,(a*e-b*d)/detA]\n",
    "    print(L3,end='\\n')"
   ]
  }
 ],
 "metadata": {
  "kernelspec": {
   "display_name": "Python 3",
   "language": "python",
   "name": "python3"
  },
  "language_info": {
   "codemirror_mode": {
    "name": "ipython",
    "version": 3
   },
   "file_extension": ".py",
   "mimetype": "text/x-python",
   "name": "python",
   "nbconvert_exporter": "python",
   "pygments_lexer": "ipython3",
   "version": "3.8.8"
  }
 },
 "nbformat": 4,
 "nbformat_minor": 5
}
